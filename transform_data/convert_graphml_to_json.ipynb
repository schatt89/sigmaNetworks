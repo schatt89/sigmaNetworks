{
 "cells": [
  {
   "cell_type": "code",
   "execution_count": 12,
   "metadata": {},
   "outputs": [],
   "source": [
    "import networkx as nx\n",
    "\n",
    "def has_a_link(G1,G2,u,v):\n",
    "    b1 = G1.has_edge(u,v)\n",
    "    b2 = G2.has_edge(u,v)\n",
    "    b = False\n",
    "    if b1 == True and b2 == True:\n",
    "        b = True\n",
    "    elif b1 == False and b2 == False:\n",
    "        b = True\n",
    "    else:\n",
    "        b = False\n",
    "    return b\n",
    "\n",
    "def common_sub_structure(G1,G2):\n",
    "    # add more zeros to both networks\n",
    "    G = nx.Graph()\n",
    "    nn = [u for u in G1 if u in G2]\n",
    "    aa =[(u,v) for u in nn for v in nn if u!=v and has_a_link(G1,G2,u,v)]\n",
    "    G.add_edges_from(aa)\n",
    "    ##############################\n",
    "    clq2 = list(nx.find_cliques(G))\n",
    "    if len(clq2) > 0:\n",
    "        maxcl = clq2[0]\n",
    "        size = len(maxcl)\n",
    "        for cl in clq2:\n",
    "            if len(cl) > size:\n",
    "                maxcl = cl\n",
    "                size = len(cl)\n",
    "    return maxcl\n",
    "\n",
    "from itertools import product\n",
    "def get_categories():\n",
    "    '''\n",
    "    This function generates investor category labels and assigns them an\n",
    "    increasing index\n",
    "    '''\n",
    "    por_labels = ['Helsinki', 'Rest-Uusimaa', 'Eastern-Tavastia',\n",
    "                  'South-West', 'Western-Tavastia', 'Central-Finland',\n",
    "                  'South-East', 'Ostrobothnia', 'Northern-Savonia',\n",
    "                  'Eastern-Finland', 'Northern-Finland']\n",
    "    ia_house = ['Under-Age', 'Young', 'Middle-Age', 'Mature', 'Retired']\n",
    "    ia_non_h = ['no-age']\n",
    "    household = ['Households']\n",
    "    non_house = ['Non-Financial', 'Financial-Insurance',\n",
    "                 'General-Government', 'Non-Profit', 'Rest-World']\n",
    "\n",
    "    houseGroups = list(product(household, por_labels, ia_house))\n",
    "    nonHoGroups = list(product(non_house, por_labels, ia_non_h))\n",
    "    totalGroups = nonHoGroups + houseGroups\n",
    "    groups = {name: idx for idx, name in enumerate(totalGroups)}\n",
    "    return groups\n",
    "\n",
    "def update_atr(G):\n",
    "    groups = get_categories()\n",
    "    sector_code = {}\n",
    "    postal_code = {}\n",
    "    age = {}\n",
    "    for node in G:\n",
    "        kk = [k for k, v in groups.items() if v == int(node)]\n",
    "        at = kk[0]\n",
    "        sector_code.update({node:at[0]}) \n",
    "        postal_code.update({node:at[1]})\n",
    "        age.update({node:at[2]}) \n",
    "    nx.set_node_attributes(G, sector_code, name='sector_code')\n",
    "    nx.set_node_attributes(G, postal_code, name='postal_code')\n",
    "    nx.set_node_attributes(G, age, name='age')\n",
    "    return G\n",
    "\n",
    "def update_link_atr(G):\n",
    "    d = {}\n",
    "    for a,b in G.edges():\n",
    "        sameA = 0\n",
    "        sameR = 0\n",
    "        if G.nodes[a]['postal_code'] == G.nodes[b]['postal_code']:\n",
    "            sameR = 1\n",
    "        if G.nodes[a]['age'] == G.nodes[b]['age']:\n",
    "            sameA = 1\n",
    "        \n",
    "        d[(a,b)] = {'sameRegion': sameR, 'sameAge': sameA}\n",
    "\n",
    "    nx.set_edge_attributes(G, d)\n",
    "    return G\n",
    "    \n",
    "B = nx.read_graphml('FI0009000665'+'_before.graphml')\n",
    "D = nx.read_graphml('FI0009000665'+'_during.graphml')\n",
    "B = update_atr(B)\n",
    "D = update_atr(D)\n",
    "B = update_link_atr(B)\n",
    "D = update_link_atr(D)\n",
    "clique = common_sub_structure(B,D)"
   ]
  },
  {
   "cell_type": "code",
   "execution_count": 13,
   "metadata": {},
   "outputs": [],
   "source": [
    "B_json, D_json = nx.node_link_data(B), nx.node_link_data(D)\n",
    "B_json['edges'] = B_json.pop('links')\n",
    "D_json['edges'] = D_json.pop('links')\n",
    "\n",
    "for i in range(len(D_json['edges'])):\n",
    "    D_json['edges'][i]['id'] = str(i)\n",
    "    \n",
    "for i in range(len(B_json['edges'])):\n",
    "    B_json['edges'][i]['id'] = str(i)"
   ]
  },
  {
   "cell_type": "code",
   "execution_count": 8,
   "metadata": {},
   "outputs": [
    {
     "ename": "NameError",
     "evalue": "name 'B_json' is not defined",
     "output_type": "error",
     "traceback": [
      "\u001b[0;31m---------------------------------------------------------------------------\u001b[0m",
      "\u001b[0;31mNameError\u001b[0m                                 Traceback (most recent call last)",
      "\u001b[0;32m<ipython-input-8-2c6c80e563ab>\u001b[0m in \u001b[0;36m<module>\u001b[0;34m\u001b[0m\n\u001b[1;32m      2\u001b[0m \u001b[0;34m\u001b[0m\u001b[0m\n\u001b[1;32m      3\u001b[0m \u001b[0;32mwith\u001b[0m \u001b[0mopen\u001b[0m\u001b[0;34m(\u001b[0m\u001b[0;34m'../public/data/before.json'\u001b[0m\u001b[0;34m,\u001b[0m \u001b[0;34m'w'\u001b[0m\u001b[0;34m)\u001b[0m \u001b[0;32mas\u001b[0m \u001b[0mjson_file\u001b[0m\u001b[0;34m:\u001b[0m\u001b[0;34m\u001b[0m\u001b[0;34m\u001b[0m\u001b[0m\n\u001b[0;32m----> 4\u001b[0;31m     \u001b[0mjson\u001b[0m\u001b[0;34m.\u001b[0m\u001b[0mdump\u001b[0m\u001b[0;34m(\u001b[0m\u001b[0mB_json\u001b[0m\u001b[0;34m,\u001b[0m \u001b[0mjson_file\u001b[0m\u001b[0;34m)\u001b[0m\u001b[0;34m\u001b[0m\u001b[0;34m\u001b[0m\u001b[0m\n\u001b[0m\u001b[1;32m      5\u001b[0m \u001b[0;32mwith\u001b[0m \u001b[0mopen\u001b[0m\u001b[0;34m(\u001b[0m\u001b[0;34m'../public/data/during.json'\u001b[0m\u001b[0;34m,\u001b[0m \u001b[0;34m'w'\u001b[0m\u001b[0;34m)\u001b[0m \u001b[0;32mas\u001b[0m \u001b[0mjson_file\u001b[0m\u001b[0;34m:\u001b[0m\u001b[0;34m\u001b[0m\u001b[0;34m\u001b[0m\u001b[0m\n\u001b[1;32m      6\u001b[0m     \u001b[0mjson\u001b[0m\u001b[0;34m.\u001b[0m\u001b[0mdump\u001b[0m\u001b[0;34m(\u001b[0m\u001b[0mD_json\u001b[0m\u001b[0;34m,\u001b[0m \u001b[0mjson_file\u001b[0m\u001b[0;34m)\u001b[0m\u001b[0;34m\u001b[0m\u001b[0;34m\u001b[0m\u001b[0m\n",
      "\u001b[0;31mNameError\u001b[0m: name 'B_json' is not defined"
     ]
    }
   ],
   "source": [
    "import json\n",
    "\n",
    "with open('../public/data/before.json', 'w') as json_file:\n",
    "    json.dump(B_json, json_file)\n",
    "with open('../public/data/during.json', 'w') as json_file:\n",
    "    json.dump(D_json, json_file)"
   ]
  },
  {
   "cell_type": "code",
   "execution_count": 9,
   "metadata": {},
   "outputs": [],
   "source": [
    "wave1 = nx.read_graphml('wave1.graphml')\n",
    "wave2 = nx.read_graphml('wave2.graphml')\n",
    "wave1_json, wave2_json = nx.node_link_data(wave1), nx.node_link_data(wave2)"
   ]
  },
  {
   "cell_type": "code",
   "execution_count": 10,
   "metadata": {},
   "outputs": [],
   "source": [
    "wave1_json['edges'] = wave1_json.pop('links')\n",
    "wave2_json['edges'] = wave2_json.pop('links')\n",
    "\n",
    "for i in range(len(wave1_json['edges'])):\n",
    "    wave1_json['edges'][i]['id'] = str(i)\n",
    "    \n",
    "for i in range(len(wave2_json['edges'])):\n",
    "    wave2_json['edges'][i]['id'] = str(i)"
   ]
  },
  {
   "cell_type": "code",
   "execution_count": 11,
   "metadata": {},
   "outputs": [],
   "source": [
    "with open('../public/data/wave1.json', 'w') as json_file:\n",
    "    json.dump(wave1_json, json_file)\n",
    "with open('../public/data/wave2.json', 'w') as json_file:\n",
    "    json.dump(wave2_json, json_file)"
   ]
  },
  {
   "cell_type": "code",
   "execution_count": null,
   "metadata": {},
   "outputs": [],
   "source": []
  }
 ],
 "metadata": {
  "kernelspec": {
   "display_name": "Python 3",
   "language": "python",
   "name": "python3"
  },
  "language_info": {
   "codemirror_mode": {
    "name": "ipython",
    "version": 3
   },
   "file_extension": ".py",
   "mimetype": "text/x-python",
   "name": "python",
   "nbconvert_exporter": "python",
   "pygments_lexer": "ipython3",
   "version": "3.7.4"
  }
 },
 "nbformat": 4,
 "nbformat_minor": 4
}
